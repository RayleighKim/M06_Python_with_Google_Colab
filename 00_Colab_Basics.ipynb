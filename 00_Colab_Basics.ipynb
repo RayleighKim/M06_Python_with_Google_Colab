{
  "nbformat": 4,
  "nbformat_minor": 0,
  "metadata": {
    "colab": {
      "name": "00_Colab_Basics.ipynb",
      "version": "0.3.2",
      "provenance": [],
      "collapsed_sections": [
        "sNKHr4xc-8gW",
        "qAHLjoP_EUQx",
        "7ldgQlRbGzn2",
        "eOO-pcoKmi1z",
        "MXHLpl9erIEN",
        "5wgLkis47ECE",
        "dj1ym8sYIUIY"
      ],
      "include_colab_link": true
    },
    "kernelspec": {
      "name": "python3",
      "display_name": "Python 3"
    },
    "accelerator": "GPU"
  },
  "cells": [
    {
      "cell_type": "markdown",
      "metadata": {
        "id": "view-in-github",
        "colab_type": "text"
      },
      "source": [
        "<a href=\"https://colab.research.google.com/github/RayleighKim/M06_Python_with_Google_Colab/blob/master/00_Colab_Basics.ipynb\" target=\"_parent\"><img src=\"https://colab.research.google.com/assets/colab-badge.svg\" alt=\"Open In Colab\"/></a>"
      ]
    },
    {
      "metadata": {
        "id": "4ndO2EeP5ECL",
        "colab_type": "text"
      },
      "cell_type": "markdown",
      "source": [
        "# Google Colaboratory Basics!\n",
        "\n",
        "Writer : Rayleigh Kim\n",
        "\n",
        "e-mail : rayleigh@dplus.company\n",
        "\n",
        "\n",
        "#### 이 튜토리얼의 목표\n",
        "\n",
        "*다음의  8가지를 자유롭게 할 수 있다면 완료 ! *\n",
        "\n",
        "1. 셀 선택, 편집 모드 진입/선택모드\n",
        "2. 셀을 실행하는 방법들\n",
        "3. 마크다운 셀 / 코드 셀 전환\n",
        "2. 코드 Line number\n",
        "5. 셀 생성, 셀 삭제\n",
        "5. 링크 삽입 / 이미지 삽입\n",
        "7. 저장과 노트 설정\n",
        "8. 구글드라이브연동\n",
        "\n",
        "#### (+Optional) 구글 Colab의 기본 스펙을 알아보자!\n",
        "\n",
        "#### (+Optional) Git에도 저장할수 있다!"
      ]
    },
    {
      "metadata": {
        "id": "U9nds1dnr-X7",
        "colab_type": "text"
      },
      "cell_type": "markdown",
      "source": [
        "![이미지](https://github.com/RayleighKim/Example_datasets/blob/master/Google_Colab_Guide.PNG?raw=true)"
      ]
    },
    {
      "metadata": {
        "id": "Bset4YGo37Tf",
        "colab_type": "text"
      },
      "cell_type": "markdown",
      "source": [
        "## 0. 주의\n",
        "\n",
        "* 실행 결과가 나오기전에 반복실행은 삼가주세요.\n",
        "* 코드가 너무 오래 도는것 같은 경우 Ctrl+ M + I 를 눌러 코드를 멈춰주세요.\n",
        "* 뭔가 완전히 망한 것 같은 경우 Ctrl+M+.(dot)을 눌러서 런타임을 재시작 하면 됩니다. (위의 메뉴를 통해서도 가능합니다.)\n",
        "* 우측 상단에 댓글, 공유 아래에 녹색으로 '연결됨'이라고 되어있는지 체크해주세요."
      ]
    },
    {
      "metadata": {
        "id": "fQc-pZCY-8Tu",
        "colab_type": "text"
      },
      "cell_type": "markdown",
      "source": [
        "## 1. 셀 선택, 편집 모드 진입 / 선택 모드\n",
        "\n",
        "Arrows, Enter, Esc 마음껏 움직여 보라!\n",
        "\n",
        "Q1. 편집모드와 선택모드를 구별 할 수 있나요?"
      ]
    },
    {
      "metadata": {
        "id": "sNKHr4xc-8gW",
        "colab_type": "text"
      },
      "cell_type": "markdown",
      "source": [
        "## 2. 셀을 실행하는 방법들\n",
        "\n",
        "Alt / Ctrl / Shift + Enter\n",
        "\n",
        "Q1. 각각의 차이점을 적어보자!"
      ]
    },
    {
      "metadata": {
        "id": "rqUi-NTP5hVr",
        "colab_type": "code",
        "colab": {}
      },
      "cell_type": "code",
      "source": [
        "print('Hello? Is it me you are looking for?')"
      ],
      "execution_count": 0,
      "outputs": []
    },
    {
      "metadata": {
        "id": "xL0zRsbBDMeJ",
        "colab_type": "code",
        "colab": {}
      },
      "cell_type": "code",
      "source": [
        "print(\"안녕! 힘세고 강한 아침! '나는 왈도'\")"
      ],
      "execution_count": 0,
      "outputs": []
    },
    {
      "metadata": {
        "id": "qAHLjoP_EUQx",
        "colab_type": "text"
      },
      "cell_type": "markdown",
      "source": [
        "## 3. 마크다운 셀 / 코드 셀 전환\n",
        "\n",
        "\n",
        "Google Colaboratory 의 단축키들은 상당수 Ctrl + M 으로 시작을 한다!\n",
        "\n",
        "\n",
        "* 마크다운으로 전환 : Ctrl + M M\n",
        "* 코드셀로 전환 : Ctrl + M Y"
      ]
    },
    {
      "metadata": {
        "id": "caBCPYZbEnYR",
        "colab_type": "code",
        "colab": {}
      },
      "cell_type": "code",
      "source": [
        "#### 여기는 마크다운 셀\n",
        "\n",
        "1. Please change this cell into a MarkDown Cell\n",
        "\n",
        "or we can't run this cell correctly"
      ],
      "execution_count": 0,
      "outputs": []
    },
    {
      "metadata": {
        "id": "Cz0Gn5hbFJaA",
        "colab_type": "text"
      },
      "cell_type": "markdown",
      "source": [
        "'''\n",
        "Need to change this cell into a Code Cell\n",
        "'''\n",
        "\n",
        "print( 'This song starts with \" I crossed the valleys the dust of midlands \", What is the Name of this song?')\n",
        "print( 'type the name of this song with ')\n",
        "\n",
        "answers = raw_input(\"Answer? : \")\n",
        "\n",
        "if answers == 'emerald sword' :\n",
        "  print(\"Yes, Yes Y'all ! \")\n",
        "else :\n",
        "  print('type correctly, plz')"
      ]
    },
    {
      "metadata": {
        "id": "7ldgQlRbGzn2",
        "colab_type": "text"
      },
      "cell_type": "markdown",
      "source": [
        "## 4. 코드 Line Number"
      ]
    },
    {
      "metadata": {
        "id": "bE9SjFkUm7QJ",
        "colab_type": "text"
      },
      "cell_type": "markdown",
      "source": [
        "Ctrl + M L\n"
      ]
    },
    {
      "metadata": {
        "id": "BUG-ch1-GNQq",
        "colab_type": "code",
        "colab": {}
      },
      "cell_type": "code",
      "source": [
        "sample_list = []\n",
        "sumsum = 0\n",
        "\n",
        "for i in range(10) :\n",
        "  sample_list.append(i)\n",
        "  sumsum += i\n",
        "  print(i)\n",
        "print('loop done')\n",
        "print(sumsum)\n",
        "print(sample_list)"
      ],
      "execution_count": 0,
      "outputs": []
    },
    {
      "metadata": {
        "id": "eOO-pcoKmi1z",
        "colab_type": "text"
      },
      "cell_type": "markdown",
      "source": [
        "## 5. 셀 생성, 셀 삭제"
      ]
    },
    {
      "metadata": {
        "id": "HFBVSHlGqzSw",
        "colab_type": "text"
      },
      "cell_type": "markdown",
      "source": [
        "선택된 셀 기준으로\n",
        "* 위에 셀 생성 : Ctrl + M A\n",
        "* 아래에 셀 생성 : Ctrl + M B\n"
      ]
    },
    {
      "metadata": {
        "id": "x2DayOvCsF0F",
        "colab_type": "code",
        "colab": {}
      },
      "cell_type": "code",
      "source": [
        "import pandas as pd"
      ],
      "execution_count": 0,
      "outputs": []
    },
    {
      "metadata": {
        "id": "Z5eAxWv5zKZ1",
        "colab_type": "code",
        "colab": {}
      },
      "cell_type": "code",
      "source": [
        "a = pd.read_csv('https://raw.githubusercontent.com/RayleighKim/Example_datasets/master/ade_sales.csv')"
      ],
      "execution_count": 0,
      "outputs": []
    },
    {
      "metadata": {
        "id": "cTBCBZg3zN9M",
        "colab_type": "code",
        "colab": {}
      },
      "cell_type": "code",
      "source": [
        "a.head()"
      ],
      "execution_count": 0,
      "outputs": []
    },
    {
      "metadata": {
        "id": "_EAzs-arqqp9",
        "colab_type": "code",
        "colab": {}
      },
      "cell_type": "code",
      "source": [
        "print('이 셀을 기준으로 위에 2개 아래에 2개 생성하시오')"
      ],
      "execution_count": 0,
      "outputs": []
    },
    {
      "metadata": {
        "id": "P7frniNiqqxN",
        "colab_type": "text"
      },
      "cell_type": "markdown",
      "source": [
        "## 6. 링크 삽입, 이미지 삽입\n",
        "\n",
        "\n",
        "[Imagine Dragons - Believer](https://www.youtube.com/watch?v=7wtfhZwyrcc)\n",
        "\n",
        "[여기를 눌러보면 좋은 방법들이 많다!](https://gist.github.com/ninanung/2b81a5db946c26c98c573e3662a92b62)\n",
        "\n",
        "![이미지](https://media1.s-nbcnews.com/i/newscms/2015_26/650336/150626-imagine-dragons-tz_475ef4b358f3fb4fab0ad37c65ab5705.jpg =50x  \"Imagine Dragons\")\n",
        "![이미지](https://media1.s-nbcnews.com/i/newscms/2015_26/650336/150626-imagine-dragons-tz_475ef4b358f3fb4fab0ad37c65ab5705.jpg =150x  \"Imagine Dragons\")\n",
        "![이미지](https://media1.s-nbcnews.com/i/newscms/2015_26/650336/150626-imagine-dragons-tz_475ef4b358f3fb4fab0ad37c65ab5705.jpg  \"Imagine Dragons\")"
      ]
    },
    {
      "metadata": {
        "id": "MXHLpl9erIEN",
        "colab_type": "text"
      },
      "cell_type": "markdown",
      "source": [
        "## 7. 저장과 노트 설정\n",
        "\n",
        "* 저장 : Ctrl + S\n",
        "* 수정 -> 노트 설정"
      ]
    },
    {
      "metadata": {
        "id": "2bPYRoUNsu0y",
        "colab_type": "code",
        "colab": {}
      },
      "cell_type": "code",
      "source": [
        "!ls"
      ],
      "execution_count": 0,
      "outputs": []
    },
    {
      "metadata": {
        "id": "PZqSYRsi3qVE",
        "colab_type": "code",
        "colab": {}
      },
      "cell_type": "code",
      "source": [
        "!python --version"
      ],
      "execution_count": 0,
      "outputs": []
    },
    {
      "metadata": {
        "id": "5wgLkis47ECE",
        "colab_type": "text"
      },
      "cell_type": "markdown",
      "source": [
        "## 8. 파일 업로드 / 다운로드"
      ]
    },
    {
      "metadata": {
        "id": "zX7QxThA7LFU",
        "colab_type": "text"
      },
      "cell_type": "markdown",
      "source": [
        "작업 공간의 경로를 확인해보자. ls 혹은 !ls를 이용한다.\n",
        "\n",
        "개인적으로는, 그냥 ls가 보기 좋더라!\n",
        "\n",
        "mkdir, cd 등의 명령어를 사용할 수 있다."
      ]
    },
    {
      "metadata": {
        "id": "BZp_Kufr7UsV",
        "colab_type": "code",
        "colab": {}
      },
      "cell_type": "code",
      "source": [
        "ls"
      ],
      "execution_count": 0,
      "outputs": []
    },
    {
      "metadata": {
        "id": "zFZJpHBD72xQ",
        "colab_type": "text"
      },
      "cell_type": "markdown",
      "source": [
        "notebook의 magic commad를 이용해보자!\n",
        "\n",
        "* %load filename.py\n",
        "* %run filename.py\n",
        "* %%writefile file.py\n",
        "\n",
        "위 기능들은 알아두면 좋다!"
      ]
    },
    {
      "metadata": {
        "id": "DbhUxY0x7bUv",
        "colab_type": "code",
        "colab": {}
      },
      "cell_type": "code",
      "source": [
        "%%writefile  test.py\n",
        "\n",
        "print('hello?')"
      ],
      "execution_count": 0,
      "outputs": []
    },
    {
      "metadata": {
        "id": "_tKbhVnI7zMG",
        "colab_type": "code",
        "colab": {}
      },
      "cell_type": "code",
      "source": [
        "ls # test.py 가 생긴 것을 확인할 수 있다."
      ],
      "execution_count": 0,
      "outputs": []
    },
    {
      "metadata": {
        "id": "xbgR6pZw8KfF",
        "colab_type": "text"
      },
      "cell_type": "markdown",
      "source": [
        "필요한 라이브러리를 불러와야 한다. "
      ]
    },
    {
      "metadata": {
        "id": "Y0qSRDOi8Rkp",
        "colab_type": "code",
        "colab": {}
      },
      "cell_type": "code",
      "source": [
        "from google.colab import files"
      ],
      "execution_count": 0,
      "outputs": []
    },
    {
      "metadata": {
        "id": "vSOG1Ljr8UBo",
        "colab_type": "code",
        "colab": {}
      },
      "cell_type": "code",
      "source": [
        "# 다운로드는 아래와 같은 명령어로 진행한다.\n",
        "\n",
        "files.download('test.py')"
      ],
      "execution_count": 0,
      "outputs": []
    },
    {
      "metadata": {
        "id": "vHT9Dnyk8dUQ",
        "colab_type": "code",
        "colab": {}
      },
      "cell_type": "code",
      "source": [
        "# 업로드는 아래와 같은 명령어로 진행한다.\n",
        "\n",
        "uploaded = files.upload()"
      ],
      "execution_count": 0,
      "outputs": []
    },
    {
      "metadata": {
        "id": "I39Jy_8470A1",
        "colab_type": "code",
        "colab": {}
      },
      "cell_type": "code",
      "source": [
        "# uploaded는 dictionary가 된다. 아래와 같은 내용을 담게 된다.\n",
        "# 파일 이름 : 내용\n",
        "uploaded"
      ],
      "execution_count": 0,
      "outputs": []
    },
    {
      "metadata": {
        "id": "1j82l4np7ebO",
        "colab_type": "code",
        "colab": {}
      },
      "cell_type": "code",
      "source": [
        "# 업로드 된 파일 잘 업로드 되었는지 확인!\n",
        "ls"
      ],
      "execution_count": 0,
      "outputs": []
    },
    {
      "metadata": {
        "id": "IyCxpzAH7V0E",
        "colab_type": "code",
        "colab": {}
      },
      "cell_type": "code",
      "source": [
        ""
      ],
      "execution_count": 0,
      "outputs": []
    },
    {
      "metadata": {
        "id": "I9UOTCHu3qfV",
        "colab_type": "text"
      },
      "cell_type": "markdown",
      "source": [
        "## 9. 구글드라이브연동\n",
        "\n",
        "**원래는 매우 복잡한 코드와, 불안정한 무언가였음! 지금은 그렇지 아니하다!**\n",
        "\n",
        "연동이 성공적으로 된다면, 구글 드라이브 내에서 파일을 업로드/다운로드 하며 사용할 수 있다.\n",
        "\n",
        "주의 : 노트북 마다 새로이 연동을 시켜야 한다."
      ]
    },
    {
      "metadata": {
        "id": "UtvdatXSYtBP",
        "colab_type": "text"
      },
      "cell_type": "markdown",
      "source": [
        "### 9-1. 작업 경로를 일단 확실히 하자\n",
        "\n",
        "기본적으로는 /content 폴더 위에서 작업을 하게 된다. 다른 곳 가지말고(!) 여기 위에서 계속 작업해보자"
      ]
    },
    {
      "metadata": {
        "id": "7jsR61IbamPw",
        "colab_type": "code",
        "colab": {}
      },
      "cell_type": "code",
      "source": [
        "import os\n",
        "print(os.getcwd())"
      ],
      "execution_count": 0,
      "outputs": []
    },
    {
      "metadata": {
        "id": "UWwcZs98YnwF",
        "colab_type": "code",
        "colab": {}
      },
      "cell_type": "code",
      "source": [
        "ls"
      ],
      "execution_count": 0,
      "outputs": []
    },
    {
      "metadata": {
        "id": "1PFh-c5gbEjK",
        "colab_type": "text"
      },
      "cell_type": "markdown",
      "source": [
        "### 9-2. 구글 드라이브를 마운트 해보자!\n",
        "\n",
        "```\n",
        "drive.mount(path)\n",
        "```\n",
        "를 이용한다. 이때 path가 기본 path면('/content' or './') 무슨 문제가 일어나는지 확인해보자.\n",
        "\n",
        "우리는 기본 path에 폴더를 하나 만들면서 마운트 하자!"
      ]
    },
    {
      "metadata": {
        "id": "Pa-d9c26bH_-",
        "colab_type": "code",
        "colab": {}
      },
      "cell_type": "code",
      "source": [
        "from google.colab import drive"
      ],
      "execution_count": 0,
      "outputs": []
    },
    {
      "metadata": {
        "id": "Alv9x3DpbKFg",
        "colab_type": "code",
        "colab": {}
      },
      "cell_type": "code",
      "source": [
        "drive.mount('./gd')"
      ],
      "execution_count": 0,
      "outputs": []
    },
    {
      "metadata": {
        "id": "jT6mYMsUlzG3",
        "colab_type": "text"
      },
      "cell_type": "markdown",
      "source": [
        "### 9-3. 만든 폴더로 들어가보면?!"
      ]
    },
    {
      "metadata": {
        "id": "o7SfJjMQbMnl",
        "colab_type": "code",
        "colab": {}
      },
      "cell_type": "code",
      "source": [
        "cd gd/My Drive"
      ],
      "execution_count": 0,
      "outputs": []
    },
    {
      "metadata": {
        "id": "2BRhNFKJlsRO",
        "colab_type": "code",
        "colab": {}
      },
      "cell_type": "code",
      "source": [
        "ls"
      ],
      "execution_count": 0,
      "outputs": []
    },
    {
      "metadata": {
        "id": "ZUz-R3HaaB0u",
        "colab_type": "text"
      },
      "cell_type": "markdown",
      "source": [
        ""
      ]
    },
    {
      "metadata": {
        "id": "Ac6ABFMLHqCr",
        "colab_type": "text"
      },
      "cell_type": "markdown",
      "source": [
        "###(Optional)9-4. 원래는 다음의 코드 처럼 복잡하고 어렵던 무언가\n",
        "였다!\n",
        "\n",
        "예전의 설명들 :<br>\n",
        "일단, 구글 드라이브와 연동을 시도한다.\n",
        "\n",
        "인내심을 가지고 천천히 기다리자, 코드 반복실행등을 하면 할 수록 늦어\n",
        "지거나 응답하지 않는다.\n",
        "\n",
        "```\n",
        "!apt-get install -y -qq software-properties-common python-software-properties module-init-tools\n",
        "!add-apt-repository -y ppa:alessandro-strada/ppa 2>&1 > /dev/null\n",
        "!apt-get update -qq 2>&1 > /dev/null\n",
        "!apt-get -y install -qq google-drive-ocamlfuse fuse\n",
        "from google.colab import auth\n",
        "auth.authenticate_user()\n",
        "from oauth2client.client import GoogleCredentials\n",
        "creds = GoogleCredentials.get_application_default()\n",
        "import getpass\n",
        "!google-drive-ocamlfuse -headless -id={creds.client_id} -secret={creds.client_secret} < /dev/null 2>&1 | grep URL\n",
        "vcode = getpass.getpass()\n",
        "!echo {vcode} | google-drive-ocamlfuse -headless -id={creds.client_id} -secret={creds.client_secret}\n",
        "\n",
        "```\n",
        "\n",
        "위 방식대로 하여 구글 드라이브가 연동이 되지 않거나, 다른 문제가 있다면 8번으로 돌아가자!"
      ]
    },
    {
      "metadata": {
        "id": "dj1ym8sYIUIY",
        "colab_type": "text"
      },
      "cell_type": "markdown",
      "source": [
        "##  (+Optional) Google Colab의 스펙을 알아보자"
      ]
    },
    {
      "metadata": {
        "id": "rwVn7JUDJ2c0",
        "colab_type": "code",
        "colab": {}
      },
      "cell_type": "code",
      "source": [
        "from tensorflow.python.client import device_lib\n",
        "device_lib.list_local_devices()"
      ],
      "execution_count": 0,
      "outputs": []
    },
    {
      "metadata": {
        "id": "sBZS-HwLJHUn",
        "colab_type": "code",
        "colab": {}
      },
      "cell_type": "code",
      "source": [
        "import platform\n",
        "\n",
        "platform.platform()"
      ],
      "execution_count": 0,
      "outputs": []
    },
    {
      "metadata": {
        "id": "tEmzbnENIwya",
        "colab_type": "code",
        "colab": {}
      },
      "cell_type": "code",
      "source": [
        "!cat /proc/meminfo"
      ],
      "execution_count": 0,
      "outputs": []
    },
    {
      "metadata": {
        "id": "DjC087CLItui",
        "colab_type": "code",
        "colab": {}
      },
      "cell_type": "code",
      "source": [
        "!cat /proc/cpuinfo"
      ],
      "execution_count": 0,
      "outputs": []
    },
    {
      "metadata": {
        "id": "nr2k3nnvIt0M",
        "colab_type": "code",
        "colab": {}
      },
      "cell_type": "code",
      "source": [
        ""
      ],
      "execution_count": 0,
      "outputs": []
    }
  ]
}