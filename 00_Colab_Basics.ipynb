{
  "nbformat": 4,
  "nbformat_minor": 0,
  "metadata": {
    "colab": {
      "name": "00_Colab_Basics.ipynb",
      "version": "0.3.2",
      "provenance": [],
      "collapsed_sections": []
    },
    "kernelspec": {
      "name": "python3",
      "display_name": "Python 3"
    }
  },
  "cells": [
    {
      "cell_type": "markdown",
      "metadata": {
        "id": "view-in-github",
        "colab_type": "text"
      },
      "source": [
        "[View in Colaboratory](https://colab.research.google.com/github/RayleighKim/M06_Python_with_Google_Colab/blob/master/00_Colab_Basics.ipynb)"
      ]
    },
    {
      "metadata": {
        "id": "4ndO2EeP5ECL",
        "colab_type": "text"
      },
      "cell_type": "markdown",
      "source": [
        "# Google Colaboratory Basics!\n",
        "\n",
        "Writer : Rayleigh Kim\n",
        "\n",
        "e-mail : rayleigh@dplus.company\n",
        "\n",
        "\n",
        "#### 이 튜토리얼의 목표\n",
        "\n",
        "*다음의  6가지를 자유롭게 할 수 있다면 완료 ! *\n",
        "\n",
        "1. 셀 선택, 편집 모드 진입/선택모드\n",
        "2. 셀을 실행하는 방법들\n",
        "3. 마크다운 셀 / 코드 셀 전환\n",
        "2. 코드 Line number\n",
        "5. 셀 생성, 셀 삭제\n",
        "5. 링크 삽입 / 이미지 삽입\n",
        "7. 저장과 노트 설정\n",
        "\n",
        "#### (+Optional) Git에도 저장할수 있다!"
      ]
    },
    {
      "metadata": {
        "id": "fQc-pZCY-8Tu",
        "colab_type": "text"
      },
      "cell_type": "markdown",
      "source": [
        "### 1. 셀 선택, 편집 모드 진입 / 선택 모드\n",
        "\n",
        "Arrows, Enter, Esc 마음껏 움직여 보라!\n",
        "\n",
        "Q1. 편집모드와 선택모드를 구별 할 수 있나요?"
      ]
    },
    {
      "metadata": {
        "id": "sNKHr4xc-8gW",
        "colab_type": "text"
      },
      "cell_type": "markdown",
      "source": [
        "### 2. 셀을 실행하는 방법들\n",
        "\n",
        "Alt / Ctrl / Shift + Enter\n",
        "\n",
        "Q1. 각각의 차이점을 적어보자!"
      ]
    },
    {
      "metadata": {
        "id": "rqUi-NTP5hVr",
        "colab_type": "code",
        "colab": {}
      },
      "cell_type": "code",
      "source": [
        "print('Hello? Is it me you are looking for?')"
      ],
      "execution_count": 0,
      "outputs": []
    },
    {
      "metadata": {
        "id": "xL0zRsbBDMeJ",
        "colab_type": "code",
        "colab": {}
      },
      "cell_type": "code",
      "source": [
        "print(\"안녕! 힘세고 강한 아침! '나는 왈도'\")"
      ],
      "execution_count": 0,
      "outputs": []
    },
    {
      "metadata": {
        "id": "BOFwTQQb5GuP",
        "colab_type": "code",
        "colab": {}
      },
      "cell_type": "code",
      "source": [
        ""
      ],
      "execution_count": 0,
      "outputs": []
    },
    {
      "metadata": {
        "id": "B6aU6HUq-9Bv",
        "colab_type": "code",
        "colab": {}
      },
      "cell_type": "code",
      "source": [
        ""
      ],
      "execution_count": 0,
      "outputs": []
    },
    {
      "metadata": {
        "id": "qAHLjoP_EUQx",
        "colab_type": "text"
      },
      "cell_type": "markdown",
      "source": [
        "### 3. 마크다운 셀 / 코드 셀 전환\n",
        "\n",
        "\n",
        "Google Colaboratory 의 단축키들은 상당수 Ctrl + M 으로 시작을 한다!\n",
        "\n",
        "\n",
        "* 마크다운으로 전환 : Ctrl + M M\n",
        "* 코드셀로 전환 : Ctrl + M Y"
      ]
    },
    {
      "metadata": {
        "id": "caBCPYZbEnYR",
        "colab_type": "code",
        "colab": {}
      },
      "cell_type": "code",
      "source": [
        "#### 여기는 마크다운 셀\n",
        "\n",
        "1. Please change this cell into a MarkDown Cell\n",
        "\n",
        "or we can't run this cell correctly"
      ],
      "execution_count": 0,
      "outputs": []
    },
    {
      "metadata": {
        "id": "Cz0Gn5hbFJaA",
        "colab_type": "text"
      },
      "cell_type": "markdown",
      "source": [
        "'''\n",
        "Need to change this cell into a Code Cell\n",
        "'''\n",
        "\n",
        "print( 'This song starts with \" I crossed the valleys the dust of midlands \", What is the Name of this song?')\n",
        "print( 'type the name of this song with ')\n",
        "\n",
        "answers = raw_input(\"Answer? : \")\n",
        "\n",
        "if answers == 'emerald sword' :\n",
        "  print(\"Yes, Yes Y'all ! \")\n",
        "else :\n",
        "  print('type correctly, plz')"
      ]
    },
    {
      "metadata": {
        "id": "7ldgQlRbGzn2",
        "colab_type": "text"
      },
      "cell_type": "markdown",
      "source": [
        "### 4. 코드 Line Number"
      ]
    },
    {
      "metadata": {
        "id": "bE9SjFkUm7QJ",
        "colab_type": "text"
      },
      "cell_type": "markdown",
      "source": [
        "Ctrl + M L\n"
      ]
    },
    {
      "metadata": {
        "id": "BUG-ch1-GNQq",
        "colab_type": "code",
        "colab": {}
      },
      "cell_type": "code",
      "source": [
        "sample_list = []\n",
        "sumsum = 0\n",
        "\n",
        "for i in range(10) :\n",
        "  sample_list.append(i)\n",
        "  sumsum += i\n",
        "  print(i)\n",
        "print('loop done')\n",
        "print(sumsum)\n",
        "print(sample_list)"
      ],
      "execution_count": 0,
      "outputs": []
    },
    {
      "metadata": {
        "id": "eOO-pcoKmi1z",
        "colab_type": "text"
      },
      "cell_type": "markdown",
      "source": [
        "### 5. 셀 생성, 셀 삭제"
      ]
    },
    {
      "metadata": {
        "id": "HFBVSHlGqzSw",
        "colab_type": "text"
      },
      "cell_type": "markdown",
      "source": [
        "선택된 셀 기준으로\n",
        "* 위에 셀 생성 : Ctrl + M A\n",
        "* 아래에 셀 생성 : Ctrl + M B\n"
      ]
    },
    {
      "metadata": {
        "id": "_EAzs-arqqp9",
        "colab_type": "code",
        "colab": {
          "base_uri": "https://localhost:8080/",
          "height": 34
        },
        "outputId": "03309b29-ffc8-4728-a45a-6b1b255220b8"
      },
      "cell_type": "code",
      "source": [
        "print('이 셀을 기준으로 위에 2개 아래에 2개 생성하시오')"
      ],
      "execution_count": 2,
      "outputs": [
        {
          "output_type": "stream",
          "text": [
            "이 셀을 기준으로 위에 2개 아래에 2개 생성하시오\n"
          ],
          "name": "stdout"
        }
      ]
    },
    {
      "metadata": {
        "id": "P7frniNiqqxN",
        "colab_type": "text"
      },
      "cell_type": "markdown",
      "source": [
        "### 6. 링크 삽입, 이미지 삽입\n",
        "\n",
        "\n",
        "[Imagine Dragons - Believer](https://www.youtube.com/watch?v=7wtfhZwyrcc)\n",
        "\n",
        "[여기를 눌러보면 좋은 방법들이 많다!](https://gist.github.com/ninanung/2b81a5db946c26c98c573e3662a92b62)\n",
        "\n",
        "![이미지](https://media1.s-nbcnews.com/i/newscms/2015_26/650336/150626-imagine-dragons-tz_475ef4b358f3fb4fab0ad37c65ab5705.jpg \"Imagine Dragons\")"
      ]
    },
    {
      "metadata": {
        "id": "MXHLpl9erIEN",
        "colab_type": "code",
        "colab": {}
      },
      "cell_type": "code",
      "source": [
        ""
      ],
      "execution_count": 0,
      "outputs": []
    }
  ]
}