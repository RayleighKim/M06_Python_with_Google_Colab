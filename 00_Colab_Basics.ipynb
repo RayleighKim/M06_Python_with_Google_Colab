{
  "nbformat": 4,
  "nbformat_minor": 0,
  "metadata": {
    "colab": {
      "name": "00_Colab_Basics.ipynb",
      "version": "0.3.2",
      "provenance": [],
      "collapsed_sections": [
        "sNKHr4xc-8gW",
        "qAHLjoP_EUQx",
        "7ldgQlRbGzn2",
        "eOO-pcoKmi1z",
        "MXHLpl9erIEN",
        "5wgLkis47ECE",
        "I9UOTCHu3qfV",
        "dj1ym8sYIUIY"
      ],
      "include_colab_link": true
    },
    "kernelspec": {
      "name": "python3",
      "display_name": "Python 3"
    },
    "accelerator": "GPU"
  },
  "cells": [
    {
      "cell_type": "markdown",
      "metadata": {
        "id": "view-in-github",
        "colab_type": "text"
      },
      "source": [
        "[View in Colaboratory](https://colab.research.google.com/github/RayleighKim/M06_Python_with_Google_Colab/blob/master/00_Colab_Basics.ipynb)"
      ]
    },
    {
      "metadata": {
        "id": "4ndO2EeP5ECL",
        "colab_type": "text"
      },
      "cell_type": "markdown",
      "source": [
        "# Google Colaboratory Basics!\n",
        "\n",
        "Writer : Rayleigh Kim\n",
        "\n",
        "e-mail : rayleigh@dplus.company\n",
        "\n",
        "\n",
        "#### 이 튜토리얼의 목표\n",
        "\n",
        "*다음의  8가지를 자유롭게 할 수 있다면 완료 ! *\n",
        "\n",
        "1. 셀 선택, 편집 모드 진입/선택모드\n",
        "2. 셀을 실행하는 방법들\n",
        "3. 마크다운 셀 / 코드 셀 전환\n",
        "2. 코드 Line number\n",
        "5. 셀 생성, 셀 삭제\n",
        "5. 링크 삽입 / 이미지 삽입\n",
        "7. 저장과 노트 설정\n",
        "8. 구글드라이브연동\n",
        "\n",
        "#### (+Optional) 구글 Colab의 기본 스펙을 알아보자!\n",
        "\n",
        "#### (+Optional) Git에도 저장할수 있다!"
      ]
    },
    {
      "metadata": {
        "id": "U9nds1dnr-X7",
        "colab_type": "text"
      },
      "cell_type": "markdown",
      "source": [
        "![이미지](https://github.com/RayleighKim/Example_datasets/blob/master/Google_Colab_Guide.PNG?raw=true)"
      ]
    },
    {
      "metadata": {
        "id": "Bset4YGo37Tf",
        "colab_type": "text"
      },
      "cell_type": "markdown",
      "source": [
        "## 0. 주의\n",
        "\n",
        "* 실행 결과가 나오기전에 반복실행은 삼가주세요.\n",
        "* 코드가 너무 오래 도는것 같은 경우 Ctrl+ M + I 를 눌러 코드를 멈춰주세요.\n",
        "* 뭔가 완전히 망한 것 같은 경우 Ctrl+M+.(dot)을 눌러서 런타임을 재시작 하면 됩니다. (위의 메뉴를 통해서도 가능합니다.)\n",
        "* 우측 상단에 댓글, 공유 아래에 녹색으로 '연결됨'이라고 되어있는지 체크해주세요."
      ]
    },
    {
      "metadata": {
        "id": "fQc-pZCY-8Tu",
        "colab_type": "text"
      },
      "cell_type": "markdown",
      "source": [
        "## 1. 셀 선택, 편집 모드 진입 / 선택 모드\n",
        "\n",
        "Arrows, Enter, Esc 마음껏 움직여 보라!\n",
        "\n",
        "Q1. 편집모드와 선택모드를 구별 할 수 있나요?"
      ]
    },
    {
      "metadata": {
        "id": "sNKHr4xc-8gW",
        "colab_type": "text"
      },
      "cell_type": "markdown",
      "source": [
        "## 2. 셀을 실행하는 방법들\n",
        "\n",
        "Alt / Ctrl / Shift + Enter\n",
        "\n",
        "Q1. 각각의 차이점을 적어보자!"
      ]
    },
    {
      "metadata": {
        "id": "rqUi-NTP5hVr",
        "colab_type": "code",
        "colab": {
          "base_uri": "https://localhost:8080/",
          "height": 35
        },
        "outputId": "88bd1aea-cddc-42f3-f422-2d712193bd99"
      },
      "cell_type": "code",
      "source": [
        "print('Hello? Is it me you are looking for?')"
      ],
      "execution_count": 0,
      "outputs": [
        {
          "output_type": "stream",
          "text": [
            "Hello? Is it me you are looking for?\n"
          ],
          "name": "stdout"
        }
      ]
    },
    {
      "metadata": {
        "id": "xL0zRsbBDMeJ",
        "colab_type": "code",
        "colab": {}
      },
      "cell_type": "code",
      "source": [
        "print(\"안녕! 힘세고 강한 아침! '나는 왈도'\")"
      ],
      "execution_count": 0,
      "outputs": []
    },
    {
      "metadata": {
        "id": "qAHLjoP_EUQx",
        "colab_type": "text"
      },
      "cell_type": "markdown",
      "source": [
        "## 3. 마크다운 셀 / 코드 셀 전환\n",
        "\n",
        "\n",
        "Google Colaboratory 의 단축키들은 상당수 Ctrl + M 으로 시작을 한다!\n",
        "\n",
        "\n",
        "* 마크다운으로 전환 : Ctrl + M M\n",
        "* 코드셀로 전환 : Ctrl + M Y"
      ]
    },
    {
      "metadata": {
        "id": "caBCPYZbEnYR",
        "colab_type": "code",
        "colab": {}
      },
      "cell_type": "code",
      "source": [
        "#### 여기는 마크다운 셀\n",
        "\n",
        "1. Please change this cell into a MarkDown Cell\n",
        "\n",
        "or we can't run this cell correctly"
      ],
      "execution_count": 0,
      "outputs": []
    },
    {
      "metadata": {
        "id": "Cz0Gn5hbFJaA",
        "colab_type": "text"
      },
      "cell_type": "markdown",
      "source": [
        "'''\n",
        "Need to change this cell into a Code Cell\n",
        "'''\n",
        "\n",
        "print( 'This song starts with \" I crossed the valleys the dust of midlands \", What is the Name of this song?')\n",
        "print( 'type the name of this song with ')\n",
        "\n",
        "answers = raw_input(\"Answer? : \")\n",
        "\n",
        "if answers == 'emerald sword' :\n",
        "  print(\"Yes, Yes Y'all ! \")\n",
        "else :\n",
        "  print('type correctly, plz')"
      ]
    },
    {
      "metadata": {
        "id": "7ldgQlRbGzn2",
        "colab_type": "text"
      },
      "cell_type": "markdown",
      "source": [
        "## 4. 코드 Line Number"
      ]
    },
    {
      "metadata": {
        "id": "bE9SjFkUm7QJ",
        "colab_type": "text"
      },
      "cell_type": "markdown",
      "source": [
        "Ctrl + M L\n"
      ]
    },
    {
      "metadata": {
        "id": "BUG-ch1-GNQq",
        "colab_type": "code",
        "colab": {}
      },
      "cell_type": "code",
      "source": [
        "sample_list = []\n",
        "sumsum = 0\n",
        "\n",
        "for i in range(10) :\n",
        "  sample_list.append(i)\n",
        "  sumsum += i\n",
        "  print(i)\n",
        "print('loop done')\n",
        "print(sumsum)\n",
        "print(sample_list)"
      ],
      "execution_count": 0,
      "outputs": []
    },
    {
      "metadata": {
        "id": "eOO-pcoKmi1z",
        "colab_type": "text"
      },
      "cell_type": "markdown",
      "source": [
        "## 5. 셀 생성, 셀 삭제"
      ]
    },
    {
      "metadata": {
        "id": "HFBVSHlGqzSw",
        "colab_type": "text"
      },
      "cell_type": "markdown",
      "source": [
        "선택된 셀 기준으로\n",
        "* 위에 셀 생성 : Ctrl + M A\n",
        "* 아래에 셀 생성 : Ctrl + M B\n"
      ]
    },
    {
      "metadata": {
        "id": "x2DayOvCsF0F",
        "colab_type": "code",
        "colab": {}
      },
      "cell_type": "code",
      "source": [
        "import pandas as pd"
      ],
      "execution_count": 0,
      "outputs": []
    },
    {
      "metadata": {
        "id": "Z5eAxWv5zKZ1",
        "colab_type": "code",
        "colab": {}
      },
      "cell_type": "code",
      "source": [
        "a = pd.read_csv('https://raw.githubusercontent.com/RayleighKim/Example_datasets/master/ade_sales.csv')"
      ],
      "execution_count": 0,
      "outputs": []
    },
    {
      "metadata": {
        "id": "cTBCBZg3zN9M",
        "colab_type": "code",
        "colab": {
          "base_uri": "https://localhost:8080/",
          "height": 223
        },
        "outputId": "f135bb01-c05b-4c35-fb63-63e343005b47"
      },
      "cell_type": "code",
      "source": [
        "a.head()"
      ],
      "execution_count": 0,
      "outputs": [
        {
          "output_type": "execute_result",
          "data": {
            "text/html": [
              "<div>\n",
              "<style scoped>\n",
              "    .dataframe tbody tr th:only-of-type {\n",
              "        vertical-align: middle;\n",
              "    }\n",
              "\n",
              "    .dataframe tbody tr th {\n",
              "        vertical-align: top;\n",
              "    }\n",
              "\n",
              "    .dataframe thead th {\n",
              "        text-align: right;\n",
              "    }\n",
              "</style>\n",
              "<table border=\"1\" class=\"dataframe\">\n",
              "  <thead>\n",
              "    <tr style=\"text-align: right;\">\n",
              "      <th></th>\n",
              "      <th>Date</th>\n",
              "      <th>Location</th>\n",
              "      <th>Lemon</th>\n",
              "      <th>Orange</th>\n",
              "      <th>Temperature</th>\n",
              "      <th>Leaflets</th>\n",
              "      <th>Price</th>\n",
              "      <th>lemon_profit</th>\n",
              "      <th>orange_profit</th>\n",
              "      <th>leaflets_lag1</th>\n",
              "      <th>leaflets_lag2</th>\n",
              "      <th>leaflets_lag3</th>\n",
              "      <th>leaflets_lag4</th>\n",
              "    </tr>\n",
              "  </thead>\n",
              "  <tbody>\n",
              "    <tr>\n",
              "      <th>0</th>\n",
              "      <td>7/1/2016</td>\n",
              "      <td>Park</td>\n",
              "      <td>97</td>\n",
              "      <td>67</td>\n",
              "      <td>70</td>\n",
              "      <td>90.0</td>\n",
              "      <td>0.25</td>\n",
              "      <td>24.25</td>\n",
              "      <td>16.75</td>\n",
              "      <td>NaN</td>\n",
              "      <td>NaN</td>\n",
              "      <td>NaN</td>\n",
              "      <td>NaN</td>\n",
              "    </tr>\n",
              "    <tr>\n",
              "      <th>1</th>\n",
              "      <td>7/2/2016</td>\n",
              "      <td>Park</td>\n",
              "      <td>98</td>\n",
              "      <td>67</td>\n",
              "      <td>72</td>\n",
              "      <td>90.0</td>\n",
              "      <td>0.25</td>\n",
              "      <td>24.50</td>\n",
              "      <td>16.75</td>\n",
              "      <td>90.0</td>\n",
              "      <td>NaN</td>\n",
              "      <td>NaN</td>\n",
              "      <td>NaN</td>\n",
              "    </tr>\n",
              "    <tr>\n",
              "      <th>2</th>\n",
              "      <td>7/3/2016</td>\n",
              "      <td>Park</td>\n",
              "      <td>110</td>\n",
              "      <td>77</td>\n",
              "      <td>71</td>\n",
              "      <td>104.0</td>\n",
              "      <td>0.25</td>\n",
              "      <td>27.50</td>\n",
              "      <td>19.25</td>\n",
              "      <td>90.0</td>\n",
              "      <td>90.0</td>\n",
              "      <td>NaN</td>\n",
              "      <td>NaN</td>\n",
              "    </tr>\n",
              "    <tr>\n",
              "      <th>3</th>\n",
              "      <td>7/4/2016</td>\n",
              "      <td>Beach</td>\n",
              "      <td>134</td>\n",
              "      <td>99</td>\n",
              "      <td>76</td>\n",
              "      <td>98.0</td>\n",
              "      <td>0.25</td>\n",
              "      <td>33.50</td>\n",
              "      <td>24.75</td>\n",
              "      <td>104.0</td>\n",
              "      <td>90.0</td>\n",
              "      <td>90.0</td>\n",
              "      <td>NaN</td>\n",
              "    </tr>\n",
              "    <tr>\n",
              "      <th>4</th>\n",
              "      <td>7/5/2016</td>\n",
              "      <td>Beach</td>\n",
              "      <td>159</td>\n",
              "      <td>118</td>\n",
              "      <td>78</td>\n",
              "      <td>135.0</td>\n",
              "      <td>0.25</td>\n",
              "      <td>39.75</td>\n",
              "      <td>29.50</td>\n",
              "      <td>98.0</td>\n",
              "      <td>104.0</td>\n",
              "      <td>90.0</td>\n",
              "      <td>90.0</td>\n",
              "    </tr>\n",
              "  </tbody>\n",
              "</table>\n",
              "</div>"
            ],
            "text/plain": [
              "       Date Location  Lemon  Orange  Temperature  Leaflets  Price  \\\n",
              "0  7/1/2016     Park     97      67           70      90.0   0.25   \n",
              "1  7/2/2016     Park     98      67           72      90.0   0.25   \n",
              "2  7/3/2016     Park    110      77           71     104.0   0.25   \n",
              "3  7/4/2016    Beach    134      99           76      98.0   0.25   \n",
              "4  7/5/2016    Beach    159     118           78     135.0   0.25   \n",
              "\n",
              "   lemon_profit  orange_profit  leaflets_lag1  leaflets_lag2  leaflets_lag3  \\\n",
              "0         24.25          16.75            NaN            NaN            NaN   \n",
              "1         24.50          16.75           90.0            NaN            NaN   \n",
              "2         27.50          19.25           90.0           90.0            NaN   \n",
              "3         33.50          24.75          104.0           90.0           90.0   \n",
              "4         39.75          29.50           98.0          104.0           90.0   \n",
              "\n",
              "   leaflets_lag4  \n",
              "0            NaN  \n",
              "1            NaN  \n",
              "2            NaN  \n",
              "3            NaN  \n",
              "4           90.0  "
            ]
          },
          "metadata": {
            "tags": []
          },
          "execution_count": 16
        }
      ]
    },
    {
      "metadata": {
        "id": "_EAzs-arqqp9",
        "colab_type": "code",
        "colab": {}
      },
      "cell_type": "code",
      "source": [
        "print('이 셀을 기준으로 위에 2개 아래에 2개 생성하시오')"
      ],
      "execution_count": 0,
      "outputs": []
    },
    {
      "metadata": {
        "id": "P7frniNiqqxN",
        "colab_type": "text"
      },
      "cell_type": "markdown",
      "source": [
        "## 6. 링크 삽입, 이미지 삽입\n",
        "\n",
        "\n",
        "[Imagine Dragons - Believer](https://www.youtube.com/watch?v=7wtfhZwyrcc)\n",
        "\n",
        "[여기를 눌러보면 좋은 방법들이 많다!](https://gist.github.com/ninanung/2b81a5db946c26c98c573e3662a92b62)\n",
        "\n",
        "![이미지](https://media1.s-nbcnews.com/i/newscms/2015_26/650336/150626-imagine-dragons-tz_475ef4b358f3fb4fab0ad37c65ab5705.jpg =50x  \"Imagine Dragons\")\n",
        "![이미지](https://media1.s-nbcnews.com/i/newscms/2015_26/650336/150626-imagine-dragons-tz_475ef4b358f3fb4fab0ad37c65ab5705.jpg =150x  \"Imagine Dragons\")\n",
        "![이미지](https://media1.s-nbcnews.com/i/newscms/2015_26/650336/150626-imagine-dragons-tz_475ef4b358f3fb4fab0ad37c65ab5705.jpg  \"Imagine Dragons\")"
      ]
    },
    {
      "metadata": {
        "id": "MXHLpl9erIEN",
        "colab_type": "text"
      },
      "cell_type": "markdown",
      "source": [
        "## 7. 저장과 노트 설정\n",
        "\n",
        "* 저장 : Ctrl + S\n",
        "* 수정 -> 노트 설정"
      ]
    },
    {
      "metadata": {
        "id": "2bPYRoUNsu0y",
        "colab_type": "code",
        "colab": {
          "base_uri": "https://localhost:8080/",
          "height": 35
        },
        "outputId": "65cc9a60-481e-402d-cd4b-4b0de4f75ba6"
      },
      "cell_type": "code",
      "source": [
        "!ls"
      ],
      "execution_count": 0,
      "outputs": [
        {
          "output_type": "stream",
          "text": [
            "datalab  sample_data\r\n"
          ],
          "name": "stdout"
        }
      ]
    },
    {
      "metadata": {
        "id": "PZqSYRsi3qVE",
        "colab_type": "code",
        "colab": {
          "base_uri": "https://localhost:8080/",
          "height": 35
        },
        "outputId": "e8ab16b0-1ceb-4c5d-df58-9a43df8b79c4"
      },
      "cell_type": "code",
      "source": [
        "!python --version"
      ],
      "execution_count": 0,
      "outputs": [
        {
          "output_type": "stream",
          "text": [
            "Python 3.6.3\r\n"
          ],
          "name": "stdout"
        }
      ]
    },
    {
      "metadata": {
        "id": "5wgLkis47ECE",
        "colab_type": "text"
      },
      "cell_type": "markdown",
      "source": [
        "## 8. 파일 업로드 / 다운로드"
      ]
    },
    {
      "metadata": {
        "id": "zX7QxThA7LFU",
        "colab_type": "text"
      },
      "cell_type": "markdown",
      "source": [
        "작업 공간의 경로를 확인해보자. ls 혹은 !ls를 이용한다.\n",
        "\n",
        "개인적으로는, 그냥 ls가 보기 좋더라!\n",
        "\n",
        "mkdir, cd 등의 명령어를 사용할 수 있다."
      ]
    },
    {
      "metadata": {
        "id": "BZp_Kufr7UsV",
        "colab_type": "code",
        "colab": {
          "base_uri": "https://localhost:8080/",
          "height": 35
        },
        "outputId": "a11e1a26-577d-4e1e-e3b2-8a996eaf075f"
      },
      "cell_type": "code",
      "source": [
        "ls"
      ],
      "execution_count": 0,
      "outputs": [
        {
          "output_type": "stream",
          "text": [
            "\u001b[0m\u001b[01;34mdatalab\u001b[0m/\r\n"
          ],
          "name": "stdout"
        }
      ]
    },
    {
      "metadata": {
        "id": "zFZJpHBD72xQ",
        "colab_type": "text"
      },
      "cell_type": "markdown",
      "source": [
        "notebook의 magic commad를 이용해보자!\n",
        "\n",
        "* %load filename.py\n",
        "* %run filename.py\n",
        "* %%writefile file.py\n",
        "\n",
        "위 기능들은 알아두면 좋다!"
      ]
    },
    {
      "metadata": {
        "id": "DbhUxY0x7bUv",
        "colab_type": "code",
        "colab": {
          "base_uri": "https://localhost:8080/",
          "height": 35
        },
        "outputId": "719eb1ac-5538-4884-b32c-17c571f18f22"
      },
      "cell_type": "code",
      "source": [
        "%%writefile  test.py\n",
        "\n",
        "print('hello?')"
      ],
      "execution_count": 0,
      "outputs": [
        {
          "output_type": "stream",
          "text": [
            "Writing test.py\n"
          ],
          "name": "stdout"
        }
      ]
    },
    {
      "metadata": {
        "id": "_tKbhVnI7zMG",
        "colab_type": "code",
        "colab": {
          "base_uri": "https://localhost:8080/",
          "height": 35
        },
        "outputId": "300609b0-5cc0-4d70-c60b-30988cc79a68"
      },
      "cell_type": "code",
      "source": [
        "ls # test.py 가 생긴 것을 확인할 수 있다."
      ],
      "execution_count": 0,
      "outputs": [
        {
          "output_type": "stream",
          "text": [
            "\u001b[0m\u001b[01;34mdatalab\u001b[0m/  \u001b[01;34mtemp\u001b[0m/  test.py\r\n"
          ],
          "name": "stdout"
        }
      ]
    },
    {
      "metadata": {
        "id": "xbgR6pZw8KfF",
        "colab_type": "text"
      },
      "cell_type": "markdown",
      "source": [
        "필요한 라이브러리를 불러와야 한다. "
      ]
    },
    {
      "metadata": {
        "id": "Y0qSRDOi8Rkp",
        "colab_type": "code",
        "colab": {}
      },
      "cell_type": "code",
      "source": [
        "from google.colab import files"
      ],
      "execution_count": 0,
      "outputs": []
    },
    {
      "metadata": {
        "id": "vSOG1Ljr8UBo",
        "colab_type": "code",
        "colab": {}
      },
      "cell_type": "code",
      "source": [
        "# 다운로드는 아래와 같은 명령어로 진행한다.\n",
        "\n",
        "files.download('test.py')"
      ],
      "execution_count": 0,
      "outputs": []
    },
    {
      "metadata": {
        "id": "vHT9Dnyk8dUQ",
        "colab_type": "code",
        "colab": {
          "resources": {
            "http://localhost:8080/nbextensions/google.colab/files.js": {
              "data": "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",
              "ok": true,
              "headers": [
                [
                  "content-type",
                  "application/javascript"
                ]
              ],
              "status": 200,
              "status_text": ""
            }
          },
          "base_uri": "https://localhost:8080/",
          "height": 76
        },
        "outputId": "af4c7762-f056-4016-e72d-6b2b0f79e497"
      },
      "cell_type": "code",
      "source": [
        "# 업로드는 아래와 같은 명령어로 진행한다.\n",
        "\n",
        "uploaded = files.upload()"
      ],
      "execution_count": 0,
      "outputs": [
        {
          "output_type": "display_data",
          "data": {
            "text/html": [
              "\n",
              "     <input type=\"file\" id=\"files-07e06f7a-d648-4e41-867f-0ce0f740135e\" name=\"files[]\" multiple disabled />\n",
              "     <output id=\"result-07e06f7a-d648-4e41-867f-0ce0f740135e\">\n",
              "      Upload widget is only available when the cell has been executed in the\n",
              "      current browser session. Please rerun this cell to enable.\n",
              "      </output>\n",
              "      <script src=\"/nbextensions/google.colab/files.js\"></script> "
            ],
            "text/plain": [
              "<IPython.core.display.HTML object>"
            ]
          },
          "metadata": {
            "tags": []
          }
        },
        {
          "output_type": "stream",
          "text": [
            "Saving model save & reload.py to model save & reload.py\n"
          ],
          "name": "stdout"
        }
      ]
    },
    {
      "metadata": {
        "id": "I39Jy_8470A1",
        "colab_type": "code",
        "colab": {
          "base_uri": "https://localhost:8080/",
          "height": 55
        },
        "outputId": "6f1e00a5-30ba-48c0-9052-baa0faa7834c"
      },
      "cell_type": "code",
      "source": [
        "# uploaded는 dictionary가 된다. 아래와 같은 내용을 담게 된다.\n",
        "# 파일 이름 : 내용\n",
        "uploaded"
      ],
      "execution_count": 0,
      "outputs": [
        {
          "output_type": "execute_result",
          "data": {
            "text/plain": [
              "{'model save & reload.py': b'# -*- coding: utf-8 -*-\\r\\n\"\"\"\\r\\nCreated on Thu Dec  7 11:23:22 2017\\r\\n\\r\\n@author: sacrifar\\r\\n\\r\\nref : https://stackoverflow.com/questions/38829641/tensorflow-train-import-meta-graph-does-not-work\\r\\nhttps://stackoverflow.com/questions/39133285/weights-and-bias-from-trained-meta-graph\\r\\nhttps://github.com/jonbruner/tensorflow-basics/blob/efe29487f34a7d1c534135a2cdeeb014759bce48/save-load/load.ipynb\\r\\nhttp://nbviewer.jupyter.org/github/tensorflow/tensorflow/blob/master/tensorflow/examples/tutorials/deepdream/deepdream.ipynb\\r\\n\\r\\n\"\"\"\\r\\nimport tensorflow as tf\\r\\nimport numpy as np\\r\\nimport os\\r\\n\\r\\n\\r\\n\\r\\ntf.reset_default_graph()\\r\\nlearning_rate = 1\\r\\ntraining_epochs = 200\\r\\n\\r\\n\\r\\n# Graph -------------------------\\r\\nX = np.random.uniform(0, 1000, 100000).reshape((-1,1))\\r\\nY = X*4 -450\\r\\n\\r\\n\\r\\nwith tf.name_scope(\"X_node\") as scope:\\r\\n    X_node = tf.placeholder(tf.float32, [None,1], \\'X_input\\')\\r\\n\\r\\nwith tf.name_scope(\"real_Y\") as scope:\\r\\n    Y_node = tf.placeholder(tf.float32, [None,1], \\'real_Y_input\\')\\r\\n\\r\\nwith tf.name_scope(\"Weight_and_Bias\") as scope:\\r\\n    weight = tf.Variable(tf.random_normal([1, 1]), name=\\'weight\\')\\r\\n    bias = tf.Variable(tf.random_normal([1,1]), name=\\'bias\\')\\r\\n\\r\\nwith tf.name_scope(\"predicted_Y\") as scope:\\r\\n    Y_hat = tf.add(tf.matmul(X_node, weight), bias, \\'predicted_Y\\')\\r\\n\\r\\nw_hist = tf.summary.histogram(\"weight\", weight) \\r\\nb_hist = tf.summary.histogram(\"bias\", bias) \\r\\ny_hist = tf.summary.histogram(\"y_hat\", Y_hat) \\r\\n\\r\\nwith tf.name_scope(\"Cost_MSE\") as scope:\\r\\n    Cost = tf.reduce_mean(tf.square(Y_hat - Y_node), name=\\'MSE\\')\\r\\n    cost_sum = tf.summary.scalar(\"cost\",Cost)\\r\\n\\r\\nwith tf.name_scope(\"Optimizer\") as scope:\\r\\n    optimizer = tf.train.AdamOptimizer(learning_rate=learning_rate).minimize(Cost)\\r\\n    \\r\\n\\r\\n\\r\\nsess = tf.Session()\\r\\nmerged = tf.summary.merge_all()\\r\\nwriter =tf.summary.FileWriter(\"./graphs\", sess.graph)\\r\\n\\r\\ninit = tf.global_variables_initializer()\\r\\nsess.run(init)\\r\\n\\r\\n\\r\\n# train ------------------------\\r\\n\\r\\nfor i in range(training_epochs) :\\r\\n    summary,_ = sess.run([merged,optimizer], feed_dict={X_node: X, Y_node: Y})\\r\\n    writer.add_summary(summary,i)\\r\\n    if i%100 == 0 :\\r\\n        loss, w, b = sess.run([Cost, weight, bias], feed_dict={X_node: X, Y_node: Y})\\r\\n        print(str(i)+\"th epoch,  cost : \",loss, \"  weight : \", w, \"  bias : \", b, \" answer : weight=4, bias = -450\")\\r\\n\\r\\nprint(\\'training complete\\')        \\r\\n# save model \\r\\nsaver = tf.train.Saver()\\r\\nsave_path = saver.save(sess, \"./linear_regression.ckpt\")\\r\\ntf.train.export_meta_graph(\"l_r.meta\")\\r\\nprint(\"Model saved\")\\r\\n# tensorboard --logdir=./graphs\\r\\ntf.all_variables()\\r\\ntf.get_default_graph().get_operations()\\r\\n[n.name for n in tf.get_default_graph().as_graph_def().node]\\r\\n\\r\\ntf.reset_default_graph() \\r\\n \\r\\n \\r\\n\\r\\nimport tensorflow as tf\\r\\nimport numpy as np\\r\\nimport os\\r\\n\\r\\nsess = tf.Session()\\r\\n\\r\\nsaver = tf.train.import_meta_graph(\"./linear_regression.ckpt.meta\")\\r\\n\\r\\ntf.all_variables()\\r\\n\\r\\nweight = tf.get_default_graph().get_tensor_by_name(\"Weight_and_Bias/weight:0\")\\r\\n\\r\\n\\r\\ninit = tf.global_variables_initializer()\\r\\nsess.run(init)\\r\\nsess.run(weight)\\r\\n\\r\\nsaver.restore(sess, \"./linear_regression.ckpt\")\\r\\nsess.run(weight)\\r\\n\\r\\n\\r\\nlearning_rate = 1\\r\\ntraining_epochs = 2000\\r\\n\\r\\n# Graph -------------------------\\r\\nX = np.random.uniform(0, 1000, 100000).reshape((-1,1))\\r\\nY = X*4 -450\\r\\n\\r\\nfor i in range(training_epochs) :\\r\\n    sess.run(\\'Optimizer/Adam\\', feed_dict={\\'X_node/X_input:0\\': X, \\'real_Y/real_Y_input:0\\': Y})\\r\\n    \\r\\n    if i%100 == 0 :\\r\\n        loss, w, b = sess.run([\\'Cost_MSE/MSE:0\\', weight, \\'Weight_and_Bias/bias:0\\'], feed_dict={\\'X_node/X_input:0\\': X, \\'real_Y/real_Y_input:0\\': Y})\\r\\n        print(str(i)+\"th epoch,  cost : \",loss, \"  weight : \", w, \"  bias : \", b, \" answer : weight=4, bias = -450\")\\r\\n\\r\\n\\r\\n'}"
            ]
          },
          "metadata": {
            "tags": []
          },
          "execution_count": 13
        }
      ]
    },
    {
      "metadata": {
        "id": "1j82l4np7ebO",
        "colab_type": "code",
        "colab": {
          "base_uri": "https://localhost:8080/",
          "height": 35
        },
        "outputId": "2a633b27-7f8a-4e7b-ba24-75f5a04b9776"
      },
      "cell_type": "code",
      "source": [
        "# 업로드 된 파일 잘 업로드 되었는지 확인!\n",
        "ls"
      ],
      "execution_count": 0,
      "outputs": [
        {
          "output_type": "stream",
          "text": [
            "\u001b[0m\u001b[01;34mdatalab\u001b[0m/  model save & reload.py  \u001b[01;34mtemp\u001b[0m/  test.py\r\n"
          ],
          "name": "stdout"
        }
      ]
    },
    {
      "metadata": {
        "id": "IyCxpzAH7V0E",
        "colab_type": "code",
        "colab": {}
      },
      "cell_type": "code",
      "source": [
        ""
      ],
      "execution_count": 0,
      "outputs": []
    },
    {
      "metadata": {
        "id": "I9UOTCHu3qfV",
        "colab_type": "text"
      },
      "cell_type": "markdown",
      "source": [
        "## 9. 구글드라이브연동\n",
        "\n",
        "**원래는 매우 복잡한 코드와, 불안정한 무언가였음! 지금은 그렇지 아니하다!**\n",
        "\n",
        "연동이 성공적으로 된다면, 구글 드라이브 내에서 파일을 업로드/다운로드 하며 사용할 수 있다.\n",
        "\n",
        "주의 : 노트북 마다 새로이 연동을 시켜야 한다."
      ]
    },
    {
      "metadata": {
        "id": "UtvdatXSYtBP",
        "colab_type": "text"
      },
      "cell_type": "markdown",
      "source": [
        "### 9-1. 작업 경로를 일단 확실히 하자\n",
        "\n",
        "기본적으로는 /content 폴더 위에서 작업을 하게 된다. 다른 곳 가지말고(!) 여기 위에서 계속 작업해보자"
      ]
    },
    {
      "metadata": {
        "id": "7jsR61IbamPw",
        "colab_type": "code",
        "colab": {
          "base_uri": "https://localhost:8080/",
          "height": 34
        },
        "outputId": "8146ea7e-50f5-4ca1-950d-0083d98466b7"
      },
      "cell_type": "code",
      "source": [
        "import os\n",
        "print(os.getcwd())"
      ],
      "execution_count": 1,
      "outputs": [
        {
          "output_type": "stream",
          "text": [
            "/content\n"
          ],
          "name": "stdout"
        }
      ]
    },
    {
      "metadata": {
        "id": "UWwcZs98YnwF",
        "colab_type": "code",
        "colab": {
          "base_uri": "https://localhost:8080/",
          "height": 34
        },
        "outputId": "9d7cfaae-8b1c-4e19-d8a8-2fad516ab9bd"
      },
      "cell_type": "code",
      "source": [
        "ls"
      ],
      "execution_count": 2,
      "outputs": [
        {
          "output_type": "stream",
          "text": [
            "\u001b[0m\u001b[01;34msample_data\u001b[0m/\n"
          ],
          "name": "stdout"
        }
      ]
    },
    {
      "metadata": {
        "id": "1PFh-c5gbEjK",
        "colab_type": "text"
      },
      "cell_type": "markdown",
      "source": [
        "### 9-2. 구글 드라이브를 마운트 해보자!\n",
        "\n",
        "```\n",
        "drive.mount(path)\n",
        "```\n",
        "를 이용한다. 이때 path가 기본 path면('/content' or './') 무슨 문제가 일어나는지 확인해보자.\n",
        "\n",
        "우리는 기본 path에 폴더를 하나 만들면서 마운트 하자!"
      ]
    },
    {
      "metadata": {
        "id": "Pa-d9c26bH_-",
        "colab_type": "code",
        "colab": {}
      },
      "cell_type": "code",
      "source": [
        "from google.colab import drive"
      ],
      "execution_count": 0,
      "outputs": []
    },
    {
      "metadata": {
        "id": "Alv9x3DpbKFg",
        "colab_type": "code",
        "colab": {
          "base_uri": "https://localhost:8080/",
          "height": 292
        },
        "outputId": "4af6a983-7ce2-4195-8edb-ea2cbe378d92"
      },
      "cell_type": "code",
      "source": [
        "drive.mount('/content')"
      ],
      "execution_count": 8,
      "outputs": [
        {
          "output_type": "error",
          "ename": "ValueError",
          "evalue": "ignored",
          "traceback": [
            "\u001b[0;31m---------------------------------------------------------------------------\u001b[0m",
            "\u001b[0;31mValueError\u001b[0m                                Traceback (most recent call last)",
            "\u001b[0;32m<ipython-input-8-dd16f1ad58f2>\u001b[0m in \u001b[0;36m<module>\u001b[0;34m()\u001b[0m\n\u001b[0;32m----> 1\u001b[0;31m \u001b[0mdrive\u001b[0m\u001b[0;34m.\u001b[0m\u001b[0mmount\u001b[0m\u001b[0;34m(\u001b[0m\u001b[0;34m'/content'\u001b[0m\u001b[0;34m)\u001b[0m\u001b[0;34m\u001b[0m\u001b[0m\n\u001b[0m",
            "\u001b[0;32m/usr/local/lib/python3.6/dist-packages/google/colab/drive.py\u001b[0m in \u001b[0;36mmount\u001b[0;34m(mountpoint)\u001b[0m\n\u001b[1;32m     71\u001b[0m       \u001b[0;32mraise\u001b[0m \u001b[0mValueError\u001b[0m\u001b[0;34m(\u001b[0m\u001b[0;34m'Mountpoint must not be a symlink'\u001b[0m\u001b[0;34m)\u001b[0m\u001b[0;34m\u001b[0m\u001b[0m\n\u001b[1;32m     72\u001b[0m     \u001b[0;32mif\u001b[0m \u001b[0mos\u001b[0m\u001b[0;34m.\u001b[0m\u001b[0mpath\u001b[0m\u001b[0;34m.\u001b[0m\u001b[0misdir\u001b[0m\u001b[0;34m(\u001b[0m\u001b[0mmountpoint\u001b[0m\u001b[0;34m)\u001b[0m \u001b[0;32mand\u001b[0m \u001b[0mos\u001b[0m\u001b[0;34m.\u001b[0m\u001b[0mlistdir\u001b[0m\u001b[0;34m(\u001b[0m\u001b[0mmountpoint\u001b[0m\u001b[0;34m)\u001b[0m\u001b[0;34m:\u001b[0m\u001b[0;34m\u001b[0m\u001b[0m\n\u001b[0;32m---> 73\u001b[0;31m       \u001b[0;32mraise\u001b[0m \u001b[0mValueError\u001b[0m\u001b[0;34m(\u001b[0m\u001b[0;34m'Mountpoint must not already contain files'\u001b[0m\u001b[0;34m)\u001b[0m\u001b[0;34m\u001b[0m\u001b[0m\n\u001b[0m\u001b[1;32m     74\u001b[0m     \u001b[0;32mif\u001b[0m \u001b[0;32mnot\u001b[0m \u001b[0mos\u001b[0m\u001b[0;34m.\u001b[0m\u001b[0mpath\u001b[0m\u001b[0;34m.\u001b[0m\u001b[0misdir\u001b[0m\u001b[0;34m(\u001b[0m\u001b[0mmountpoint\u001b[0m\u001b[0;34m)\u001b[0m \u001b[0;32mand\u001b[0m \u001b[0mos\u001b[0m\u001b[0;34m.\u001b[0m\u001b[0mpath\u001b[0m\u001b[0;34m.\u001b[0m\u001b[0mexists\u001b[0m\u001b[0;34m(\u001b[0m\u001b[0mmountpoint\u001b[0m\u001b[0;34m)\u001b[0m\u001b[0;34m:\u001b[0m\u001b[0;34m\u001b[0m\u001b[0m\n\u001b[1;32m     75\u001b[0m       \u001b[0;32mraise\u001b[0m \u001b[0mValueError\u001b[0m\u001b[0;34m(\u001b[0m\u001b[0;34m'Mountpoint must either be a directory or not exist'\u001b[0m\u001b[0;34m)\u001b[0m\u001b[0;34m\u001b[0m\u001b[0m\n",
            "\u001b[0;31mValueError\u001b[0m: Mountpoint must not already contain files"
          ]
        }
      ]
    },
    {
      "metadata": {
        "id": "o7SfJjMQbMnl",
        "colab_type": "code",
        "colab": {
          "base_uri": "https://localhost:8080/",
          "height": 107
        },
        "outputId": "e8b65965-ffc2-4abe-e13a-f654e4e11d2f"
      },
      "cell_type": "code",
      "source": [
        "drive.mount('./gdrive')"
      ],
      "execution_count": 9,
      "outputs": [
        {
          "output_type": "stream",
          "text": [
            "Go to this URL in a browser: https://accounts.google.com/o/oauth2/auth?client_id=947318989803-6bn6qk8qdgf4n4g3pfee6491hc0brc4i.apps.googleusercontent.com&redirect_uri=urn%3Aietf%3Awg%3Aoauth%3A2.0%3Aoob&scope=email%20https%3A%2F%2Fwww.googleapis.com%2Fauth%2Fdocs.test%20https%3A%2F%2Fwww.googleapis.com%2Fauth%2Fdrive%20https%3A%2F%2Fwww.googleapis.com%2Fauth%2Fdrive.photos.readonly%20https%3A%2F%2Fwww.googleapis.com%2Fauth%2Fpeopleapi.readonly&response_type=code\n",
            "Enter your authorization code:\n",
            "··········\n",
            "Mounted at ./gdrive\n"
          ],
          "name": "stdout"
        }
      ]
    },
    {
      "metadata": {
        "id": "JTyB5t_aZ_6-",
        "colab_type": "code",
        "colab": {
          "base_uri": "https://localhost:8080/",
          "height": 34
        },
        "outputId": "c0a5ecaf-9b47-4bb0-c151-930e00f3b17e"
      },
      "cell_type": "code",
      "source": [
        "ls # 우리가 만든 폴더를 볼 수 있다!"
      ],
      "execution_count": 11,
      "outputs": [
        {
          "output_type": "stream",
          "text": [
            "\u001b[0m\u001b[01;34mgdrive\u001b[0m/  \u001b[01;34msample_data\u001b[0m/\n"
          ],
          "name": "stdout"
        }
      ]
    },
    {
      "metadata": {
        "id": "ZUz-R3HaaB0u",
        "colab_type": "text"
      },
      "cell_type": "markdown",
      "source": [
        "### 9-3. 만든 폴더로 들어가보면?!"
      ]
    },
    {
      "metadata": {
        "id": "LdVN21pSaC3E",
        "colab_type": "code",
        "colab": {
          "base_uri": "https://localhost:8080/",
          "height": 34
        },
        "outputId": "1419fef5-7a3e-4688-f943-110e0d334776"
      },
      "cell_type": "code",
      "source": [
        "cd gdrive"
      ],
      "execution_count": 12,
      "outputs": [
        {
          "output_type": "stream",
          "text": [
            "/content/gdrive\n"
          ],
          "name": "stdout"
        }
      ]
    },
    {
      "metadata": {
        "id": "s34H45UhceUW",
        "colab_type": "code",
        "colab": {
          "base_uri": "https://localhost:8080/",
          "height": 34
        },
        "outputId": "f40d5c5d-bd4f-4427-c88b-26a634d22d46"
      },
      "cell_type": "code",
      "source": [
        "ls"
      ],
      "execution_count": 13,
      "outputs": [
        {
          "output_type": "stream",
          "text": [
            "\u001b[0m\u001b[01;34mMy Drive\u001b[0m/\n"
          ],
          "name": "stdout"
        }
      ]
    },
    {
      "metadata": {
        "id": "-uGwCAgWcfYz",
        "colab_type": "code",
        "colab": {
          "base_uri": "https://localhost:8080/",
          "height": 34
        },
        "outputId": "3d985fba-ed0a-4f85-fbe2-eab7f96f2119"
      },
      "cell_type": "code",
      "source": [
        "cd My Drive"
      ],
      "execution_count": 14,
      "outputs": [
        {
          "output_type": "stream",
          "text": [
            "/content/gdrive/My Drive\n"
          ],
          "name": "stdout"
        }
      ]
    },
    {
      "metadata": {
        "id": "e4AD74POci0j",
        "colab_type": "code",
        "colab": {}
      },
      "cell_type": "code",
      "source": [
        "ls"
      ],
      "execution_count": 0,
      "outputs": []
    },
    {
      "metadata": {
        "id": "Ac6ABFMLHqCr",
        "colab_type": "text"
      },
      "cell_type": "markdown",
      "source": [
        "###(Optional)9-4. 원래는 다음의 코드 처럼 복잡하고 어렵던 무언가\n",
        "였다!\n",
        "\n",
        "예전의 설명들 :<br>\n",
        "일단, 구글 드라이브와 연동을 시도한다.\n",
        "\n",
        "인내심을 가지고 천천히 기다리자, 코드 반복실행등을 하면 할 수록 늦어\n",
        "지거나 응답하지 않는다.\n",
        "\n",
        "```\n",
        "!apt-get install -y -qq software-properties-common python-software-properties module-init-tools\n",
        "!add-apt-repository -y ppa:alessandro-strada/ppa 2>&1 > /dev/null\n",
        "!apt-get update -qq 2>&1 > /dev/null\n",
        "!apt-get -y install -qq google-drive-ocamlfuse fuse\n",
        "from google.colab import auth\n",
        "auth.authenticate_user()\n",
        "from oauth2client.client import GoogleCredentials\n",
        "creds = GoogleCredentials.get_application_default()\n",
        "import getpass\n",
        "!google-drive-ocamlfuse -headless -id={creds.client_id} -secret={creds.client_secret} < /dev/null 2>&1 | grep URL\n",
        "vcode = getpass.getpass()\n",
        "!echo {vcode} | google-drive-ocamlfuse -headless -id={creds.client_id} -secret={creds.client_secret}\n",
        "\n",
        "```\n",
        "\n",
        "위 방식대로 하여 구글 드라이브가 연동이 되지 않거나, 다른 문제가 있다면 8번으로 돌아가자!"
      ]
    },
    {
      "metadata": {
        "id": "dj1ym8sYIUIY",
        "colab_type": "text"
      },
      "cell_type": "markdown",
      "source": [
        "##  (+Optional) Google Colab의 스펙을 알아보자"
      ]
    },
    {
      "metadata": {
        "id": "rwVn7JUDJ2c0",
        "colab_type": "code",
        "colab": {
          "base_uri": "https://localhost:8080/",
          "height": 289
        },
        "outputId": "756c8c8b-143f-46d9-cba8-fb81e3018d89"
      },
      "cell_type": "code",
      "source": [
        "from tensorflow.python.client import device_lib\n",
        "device_lib.list_local_devices()"
      ],
      "execution_count": 0,
      "outputs": [
        {
          "output_type": "execute_result",
          "data": {
            "text/plain": [
              "[name: \"/device:CPU:0\"\n",
              " device_type: \"CPU\"\n",
              " memory_limit: 268435456\n",
              " locality {\n",
              " }\n",
              " incarnation: 16170288789498955361, name: \"/device:GPU:0\"\n",
              " device_type: \"GPU\"\n",
              " memory_limit: 11281989632\n",
              " locality {\n",
              "   bus_id: 1\n",
              "   links {\n",
              "   }\n",
              " }\n",
              " incarnation: 8180035621341835505\n",
              " physical_device_desc: \"device: 0, name: Tesla K80, pci bus id: 0000:00:04.0, compute capability: 3.7\"]"
            ]
          },
          "metadata": {
            "tags": []
          },
          "execution_count": 10
        }
      ]
    },
    {
      "metadata": {
        "id": "sBZS-HwLJHUn",
        "colab_type": "code",
        "colab": {
          "base_uri": "https://localhost:8080/",
          "height": 35
        },
        "outputId": "135249bf-d8ae-49c0-8f23-a200f7e70850"
      },
      "cell_type": "code",
      "source": [
        "import platform\n",
        "\n",
        "platform.platform()"
      ],
      "execution_count": 0,
      "outputs": [
        {
          "output_type": "execute_result",
          "data": {
            "text/plain": [
              "'Linux-4.14.33+-x86_64-with-Ubuntu-17.10-artful'"
            ]
          },
          "metadata": {
            "tags": []
          },
          "execution_count": 11
        }
      ]
    },
    {
      "metadata": {
        "id": "tEmzbnENIwya",
        "colab_type": "code",
        "colab": {
          "base_uri": "https://localhost:8080/",
          "height": 833
        },
        "outputId": "1a5f0899-9760-44a8-81a4-a4f99bde352c"
      },
      "cell_type": "code",
      "source": [
        "!cat /proc/meminfo"
      ],
      "execution_count": 0,
      "outputs": [
        {
          "output_type": "stream",
          "text": [
            "MemTotal:       13335196 kB\r\n",
            "MemFree:         1163108 kB\r\n",
            "MemAvailable:   11679948 kB\r\n",
            "Buffers:          156796 kB\r\n",
            "Cached:         10300116 kB\r\n",
            "SwapCached:            0 kB\r\n",
            "Active:          1334964 kB\r\n",
            "Inactive:        9999948 kB\r\n",
            "Active(anon):    1022068 kB\r\n",
            "Inactive(anon):    86432 kB\r\n",
            "Active(file):     312896 kB\r\n",
            "Inactive(file):  9913516 kB\r\n",
            "Unevictable:           0 kB\r\n",
            "Mlocked:               0 kB\r\n",
            "SwapTotal:             0 kB\r\n",
            "SwapFree:              0 kB\r\n",
            "Dirty:               568 kB\r\n",
            "Writeback:             0 kB\r\n",
            "AnonPages:        876096 kB\r\n",
            "Mapped:           414076 kB\r\n",
            "Shmem:            257016 kB\r\n",
            "Slab:             661868 kB\r\n",
            "SReclaimable:     616568 kB\r\n",
            "SUnreclaim:        45300 kB\r\n",
            "KernelStack:        3584 kB\r\n",
            "PageTables:         6968 kB\r\n",
            "NFS_Unstable:          0 kB\r\n",
            "Bounce:                0 kB\r\n",
            "WritebackTmp:          0 kB\r\n",
            "CommitLimit:     6667596 kB\r\n",
            "Committed_AS:    2616584 kB\r\n",
            "VmallocTotal:   34359738367 kB\r\n",
            "VmallocUsed:           0 kB\r\n",
            "VmallocChunk:          0 kB\r\n",
            "AnonHugePages:      2048 kB\r\n",
            "ShmemHugePages:        0 kB\r\n",
            "ShmemPmdMapped:        0 kB\r\n",
            "HugePages_Total:       0\r\n",
            "HugePages_Free:        0\r\n",
            "HugePages_Rsvd:        0\r\n",
            "HugePages_Surp:        0\r\n",
            "Hugepagesize:       2048 kB\r\n",
            "DirectMap4k:      180172 kB\r\n",
            "DirectMap2M:     9256960 kB\r\n",
            "DirectMap1G:     6291456 kB\r\n"
          ],
          "name": "stdout"
        }
      ]
    },
    {
      "metadata": {
        "id": "DjC087CLItui",
        "colab_type": "code",
        "colab": {
          "base_uri": "https://localhost:8080/",
          "height": 1016
        },
        "outputId": "7438f316-beb8-4e90-d34d-403232676e57"
      },
      "cell_type": "code",
      "source": [
        "!cat /proc/cpuinfo"
      ],
      "execution_count": 0,
      "outputs": [
        {
          "output_type": "stream",
          "text": [
            "processor\t: 0\r\n",
            "vendor_id\t: GenuineIntel\r\n",
            "cpu family\t: 6\r\n",
            "model\t\t: 63\r\n",
            "model name\t: Intel(R) Xeon(R) CPU @ 2.30GHz\r\n",
            "stepping\t: 0\r\n",
            "microcode\t: 0x1\r\n",
            "cpu MHz\t\t: 2300.000\r\n",
            "cache size\t: 46080 KB\r\n",
            "physical id\t: 0\r\n",
            "siblings\t: 2\r\n",
            "core id\t\t: 0\r\n",
            "cpu cores\t: 1\r\n",
            "apicid\t\t: 0\r\n",
            "initial apicid\t: 0\r\n",
            "fpu\t\t: yes\r\n",
            "fpu_exception\t: yes\r\n",
            "cpuid level\t: 13\r\n",
            "wp\t\t: yes\r\n",
            "flags\t\t: fpu vme de pse tsc msr pae mce cx8 apic sep mtrr pge mca cmov pat pse36 clflush mmx fxsr sse sse2 ss ht syscall nx pdpe1gb rdtscp lm constant_tsc rep_good nopl xtopology nonstop_tsc cpuid pni pclmulqdq ssse3 fma cx16 sse4_1 sse4_2 x2apic movbe popcnt aes xsave avx f16c rdrand hypervisor lahf_lm abm pti fsgsbase tsc_adjust bmi1 avx2 smep bmi2 erms xsaveopt\r\n",
            "bugs\t\t: cpu_meltdown spectre_v1 spectre_v2 l1tf\r\n",
            "bogomips\t: 4600.00\r\n",
            "clflush size\t: 64\r\n",
            "cache_alignment\t: 64\r\n",
            "address sizes\t: 46 bits physical, 48 bits virtual\r\n",
            "power management:\r\n",
            "\r\n",
            "processor\t: 1\r\n",
            "vendor_id\t: GenuineIntel\r\n",
            "cpu family\t: 6\r\n",
            "model\t\t: 63\r\n",
            "model name\t: Intel(R) Xeon(R) CPU @ 2.30GHz\r\n",
            "stepping\t: 0\r\n",
            "microcode\t: 0x1\r\n",
            "cpu MHz\t\t: 2300.000\r\n",
            "cache size\t: 46080 KB\r\n",
            "physical id\t: 0\r\n",
            "siblings\t: 2\r\n",
            "core id\t\t: 0\r\n",
            "cpu cores\t: 1\r\n",
            "apicid\t\t: 1\r\n",
            "initial apicid\t: 1\r\n",
            "fpu\t\t: yes\r\n",
            "fpu_exception\t: yes\r\n",
            "cpuid level\t: 13\r\n",
            "wp\t\t: yes\r\n",
            "flags\t\t: fpu vme de pse tsc msr pae mce cx8 apic sep mtrr pge mca cmov pat pse36 clflush mmx fxsr sse sse2 ss ht syscall nx pdpe1gb rdtscp lm constant_tsc rep_good nopl xtopology nonstop_tsc cpuid pni pclmulqdq ssse3 fma cx16 sse4_1 sse4_2 x2apic movbe popcnt aes xsave avx f16c rdrand hypervisor lahf_lm abm pti fsgsbase tsc_adjust bmi1 avx2 smep bmi2 erms xsaveopt\r\n",
            "bugs\t\t: cpu_meltdown spectre_v1 spectre_v2 l1tf\r\n",
            "bogomips\t: 4600.00\r\n",
            "clflush size\t: 64\r\n",
            "cache_alignment\t: 64\r\n",
            "address sizes\t: 46 bits physical, 48 bits virtual\r\n",
            "power management:\r\n",
            "\r\n"
          ],
          "name": "stdout"
        }
      ]
    },
    {
      "metadata": {
        "id": "nr2k3nnvIt0M",
        "colab_type": "code",
        "colab": {}
      },
      "cell_type": "code",
      "source": [
        ""
      ],
      "execution_count": 0,
      "outputs": []
    }
  ]
}